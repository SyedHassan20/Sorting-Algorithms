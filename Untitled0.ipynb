{
  "cells": [
    {
      "cell_type": "code",
      "execution_count": null,
      "metadata": {
        "id": "t9_JXUjlNQjO"
      },
      "outputs": [],
      "source": [
        "def my_sort(lst): \n",
        "    n = len(lst)\n",
        "    piles = []\n",
        "    piles.append([lst.pop(0)])\n",
        "    \n",
        "    while lst:\n",
        "        item = lst.pop(0)\n",
        "        placed = False\n",
        "        for pile in piles:\n",
        "            if item > pile[-1]:\n",
        "                pile.append(item)\n",
        "                placed = True\n",
        "                break\n",
        "        if not placed:\n",
        "            piles.append([item])\n",
        "\n",
        "    while len(lst) < n:\n",
        "        tops = [pile[-1] for pile in piles]\n",
        "        idx_smallest = tops.index(min(tops))\n",
        "        lst.append(piles[idx_smallest].pop(0))\n",
        "        piles = list(filter(None, piles))\n",
        "    return lst\n",
        "#my_sort([1, 3, 2])\n",
        "my_sort([2, 2, 5, 2, 3])\n",
        "#my_sort([0, 10, 15, 1])"
      ]
    }
  ],
  "metadata": {
    "colab": {
      "provenance": []
    },
    "kernelspec": {
      "display_name": "Python 3",
      "name": "python3"
    },
    "language_info": {
      "name": "python"
    }
  },
  "nbformat": 4,
  "nbformat_minor": 0
}
